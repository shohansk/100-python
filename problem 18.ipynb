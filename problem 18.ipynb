{
 "cells": [
  {
   "cell_type": "markdown",
   "metadata": {},
   "source": [
    "### A website requires the users to input username and password to register. Write a program to check the validity of password input by users.\n",
    "\n",
    "Following are the criteria for checking the password:\n",
    "\n",
    "At least 1 letter between [a-z]\n",
    "At least 1 number between [0-9]\n",
    "At least 1 letter between [A-Z]\n",
    "At least 1 character from [$#@]\n",
    "Minimum length of transaction password: 6\n",
    "Maximum length of transaction password: 12\n",
    "Your program should accept a sequence of comma separated passwords and will check them according to the above criteria. Passwords that match the criteria are to be printed, each separated by a comma.\n",
    "\n",
    "Example\n",
    "\n",
    "If the following passwords are given as input to the program:\n",
    "\n",
    "ABd1234@1,a F1#,2w3E*,2We3345\n",
    "Then, the output of the program should be:\n",
    "\n",
    "ABd1234@1"
   ]
  },
  {
   "cell_type": "code",
   "execution_count": 1,
   "metadata": {},
   "outputs": [
    {
     "name": "stdout",
     "output_type": "stream",
     "text": [
      "shohan khan\n"
     ]
    }
   ],
   "source": [
    "print(\"shohan khan\")"
   ]
  },
  {
   "cell_type": "code",
   "execution_count": 2,
   "metadata": {},
   "outputs": [
    {
     "name": "stdout",
     "output_type": "stream",
     "text": [
      "lets start the game\n"
     ]
    }
   ],
   "source": [
    "print(\"lets start the game\")"
   ]
  },
  {
   "cell_type": "code",
   "execution_count": 10,
   "metadata": {},
   "outputs": [
    {
     "name": "stdout",
     "output_type": "stream",
     "text": [
      "ABd1234@1,a F1#,2w3E*,2We3345\n",
      "ABd1234@1\n"
     ]
    }
   ],
   "source": [
    "def is_low(x):\n",
    "    for i in x:\n",
    "        if'a'<=i and i <='z':\n",
    "            return True\n",
    "    return False\n",
    "\n",
    "def is_upper(x):\n",
    "    for i in x:\n",
    "        if 'A'<=i and i<='Z':\n",
    "            return True\n",
    "    return False\n",
    "def is_num(x):\n",
    "    for i in x:\n",
    "        if '0'<=i and i<='9':\n",
    "            return True\n",
    "    return False\n",
    "\n",
    "def is_other(x):\n",
    "    for i in x:\n",
    "        if i=='#' or i=='$' or i=='@':\n",
    "            return True\n",
    "    return False\n",
    "\n",
    "s = input().split(',')\n",
    "lst = []\n",
    "\n",
    "for i in s:\n",
    "    length =len(i)\n",
    "    if 6 <= length and length <= 12 and is_low(i) and is_upper(i) and is_num(i) and is_other(i):   #Checks if all the requirments are fulfilled\n",
    "        lst.append(i)\n",
    "\n",
    "print(\",\".join(lst))\n",
    "    \n",
    "    "
   ]
  },
  {
   "cell_type": "code",
   "execution_count": null,
   "metadata": {},
   "outputs": [],
   "source": []
  }
 ],
 "metadata": {
  "kernelspec": {
   "display_name": "Python 3",
   "language": "python",
   "name": "python3"
  },
  "language_info": {
   "codemirror_mode": {
    "name": "ipython",
    "version": 3
   },
   "file_extension": ".py",
   "mimetype": "text/x-python",
   "name": "python",
   "nbconvert_exporter": "python",
   "pygments_lexer": "ipython3",
   "version": "3.8.5"
  }
 },
 "nbformat": 4,
 "nbformat_minor": 4
}
