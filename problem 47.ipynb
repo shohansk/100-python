{
 "cells": [
  {
   "cell_type": "code",
   "execution_count": 1,
   "metadata": {},
   "outputs": [
    {
     "name": "stdout",
     "output_type": "stream",
     "text": [
      "life has no chill\n"
     ]
    }
   ],
   "source": [
    "print(\"life has no chill\")"
   ]
  },
  {
   "cell_type": "code",
   "execution_count": 4,
   "metadata": {},
   "outputs": [
    {
     "name": "stdout",
     "output_type": "stream",
     "text": [
      "78.53999999999999\n"
     ]
    }
   ],
   "source": [
    "class Circle(object):\n",
    "    def __init__(self,r):\n",
    "        self.radius = r\n",
    "        \n",
    "    def area(self):\n",
    "        return 3.1416*(self.radius**2)\n",
    "    \n",
    "cc= Circle(5)\n",
    "print(cc.area())"
   ]
  },
  {
   "cell_type": "code",
   "execution_count": null,
   "metadata": {},
   "outputs": [],
   "source": []
  }
 ],
 "metadata": {
  "kernelspec": {
   "display_name": "Python 3",
   "language": "python",
   "name": "python3"
  },
  "language_info": {
   "codemirror_mode": {
    "name": "ipython",
    "version": 3
   },
   "file_extension": ".py",
   "mimetype": "text/x-python",
   "name": "python",
   "nbconvert_exporter": "python",
   "pygments_lexer": "ipython3",
   "version": "3.8.5"
  }
 },
 "nbformat": 4,
 "nbformat_minor": 4
}
